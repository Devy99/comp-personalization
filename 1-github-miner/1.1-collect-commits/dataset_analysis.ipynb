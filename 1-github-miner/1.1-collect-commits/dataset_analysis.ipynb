{
  "cells": [
    {
      "cell_type": "markdown",
      "metadata": {
        "id": "EMOv1ZlNuj9k"
      },
      "source": [
        "# Dataset analysis"
      ]
    },
    {
      "cell_type": "code",
      "execution_count": null,
      "metadata": {
        "colab": {
          "base_uri": "https://localhost:8080/",
          "height": 826
        },
        "id": "v8Zh78Jd_Qf6",
        "outputId": "2c9afbef-056a-4b7f-9817-40641d8e157d"
      },
      "outputs": [],
      "source": [
        "import pandas as pd\n",
        "\n",
        "df = pd.read_csv('commits.csv')\n",
        "df"
      ]
    },
    {
      "cell_type": "markdown",
      "metadata": {
        "id": "_PDKx6pUwNVt"
      },
      "source": [
        "## Statistics\n",
        "Some rapid commands to check whether we have enough data to create developers' corpus"
      ]
    },
    {
      "cell_type": "code",
      "execution_count": null,
      "metadata": {
        "colab": {
          "base_uri": "https://localhost:8080/"
        },
        "id": "eg_1DZSRqpMg",
        "outputId": "f0afd695-ae41-4553-a531-762a360d909a"
      },
      "outputs": [],
      "source": [
        "# Check number of changed methods by author (before alias analysis)\n",
        "df.groupby(['author'])['changed_methods'].sum().sort_values(ascending=False)"
      ]
    },
    {
      "cell_type": "code",
      "execution_count": null,
      "metadata": {
        "colab": {
          "base_uri": "https://localhost:8080/"
        },
        "id": "qr59c5WwqqmS",
        "outputId": "2caa77e8-4478-42e0-f96d-318f014ae5d9"
      },
      "outputs": [],
      "source": [
        "# Check number of added lines by author (before alias analysis)\n",
        "df.groupby(['author'])['added_line'].sum().sort_values(ascending=False)"
      ]
    },
    {
      "cell_type": "markdown",
      "metadata": {
        "id": "0keFuiTzk-ep"
      },
      "source": [
        "## Pre-processing\n",
        "In this step, we remove null values, bot users and group eventual similar aliases"
      ]
    },
    {
      "cell_type": "markdown",
      "metadata": {
        "id": "PJ-yW_JVbH48"
      },
      "source": [
        "### Dataset inspection"
      ]
    },
    {
      "cell_type": "code",
      "execution_count": null,
      "metadata": {
        "colab": {
          "base_uri": "https://localhost:8080/"
        },
        "id": "fqdNMxohbKtV",
        "outputId": "a7e7c219-846b-49fb-951c-9e8d47abd546"
      },
      "outputs": [],
      "source": [
        "df.info()"
      ]
    },
    {
      "cell_type": "code",
      "execution_count": null,
      "metadata": {
        "colab": {
          "base_uri": "https://localhost:8080/"
        },
        "id": "xKHXw70pcCWe",
        "outputId": "28f8ad76-54bf-44ce-8990-09e6022fd77e"
      },
      "outputs": [],
      "source": [
        "# Remove rows containing null values\n",
        "df = df.dropna()\n",
        "df.info()"
      ]
    },
    {
      "cell_type": "markdown",
      "metadata": {
        "id": "k3h-34Xilks5"
      },
      "source": [
        "### Remove bots"
      ]
    },
    {
      "cell_type": "markdown",
      "metadata": {
        "id": "vLIDCfj-aq1_"
      },
      "source": [
        "Remove all authors that contains the '[bot]' substring within the name"
      ]
    },
    {
      "cell_type": "code",
      "execution_count": null,
      "metadata": {
        "id": "-mYpQUkqaR59"
      },
      "outputs": [],
      "source": [
        "df = df[df[\"author\"].str.contains(\"\\[bot\\]\") == False]"
      ]
    },
    {
      "cell_type": "code",
      "execution_count": null,
      "metadata": {
        "colab": {
          "base_uri": "https://localhost:8080/"
        },
        "id": "URybLuw3l8IZ",
        "outputId": "fecf9cc4-e0af-4e59-ce81-32545ada052e"
      },
      "outputs": [],
      "source": [
        "df[df[\"author\"].str.contains(\"\\[bot\\]\")][\"author\"].unique()"
      ]
    },
    {
      "cell_type": "code",
      "execution_count": null,
      "metadata": {
        "colab": {
          "base_uri": "https://localhost:8080/"
        },
        "id": "ZC30bjhOzSm6",
        "outputId": "7a36f07e-19ce-45d4-df2d-811a40d31167"
      },
      "outputs": [],
      "source": [
        "df[df[\"author\"].str.contains(\"GitHub\")][\"author\"].unique()"
      ]
    },
    {
      "cell_type": "code",
      "execution_count": null,
      "metadata": {
        "id": "a58niCBfzyuC"
      },
      "outputs": [],
      "source": [
        "df = df[df[\"author\"].str.contains(\"GitHub\") == False]"
      ]
    },
    {
      "cell_type": "code",
      "execution_count": null,
      "metadata": {
        "colab": {
          "base_uri": "https://localhost:8080/"
        },
        "id": "EQI3m7-Cz3Bz",
        "outputId": "4981fad0-c1c6-4d5d-f4a6-5d99fb635cbb"
      },
      "outputs": [],
      "source": [
        "df[df[\"author\"].str.contains(\"GitHub\")][\"author\"].unique()"
      ]
    },
    {
      "cell_type": "markdown",
      "metadata": {
        "id": "nft7eNIauIkb"
      },
      "source": [
        "## Remove outliers\n",
        "Remove all commits that have a number of modifies file over the third quartile + 1.5 inter-quartile range"
      ]
    },
    {
      "cell_type": "code",
      "execution_count": null,
      "metadata": {
        "colab": {
          "base_uri": "https://localhost:8080/"
        },
        "id": "IyL-Q_jSwYXv",
        "outputId": "9fe2f30d-d8f9-475d-e1b4-f0342f16a3b0"
      },
      "outputs": [],
      "source": [
        "# Calculate the inter-quartile range\n",
        "Q1, Q3 = df['changed_files'].quantile(0.25), df['changed_files'].quantile(0.75)\n",
        "IQR = Q3 - Q1\n",
        "print(f'Q1 = {Q1}, Q3 = {Q3}, IQR = {IQR}')"
      ]
    },
    {
      "cell_type": "code",
      "execution_count": null,
      "metadata": {
        "colab": {
          "base_uri": "https://localhost:8080/",
          "height": 878
        },
        "id": "z4Xrf_B1w9-1",
        "outputId": "0144c39e-6784-48a4-ff7c-1785b839d4e9"
      },
      "outputs": [],
      "source": [
        "# Remove all instances which has as number of modified files more than Q3+1.5IQR\n",
        "threshold = Q3 + 1.5*IQR\n",
        "df = df.query('changed_files < @threshold')\n",
        "df"
      ]
    },
    {
      "cell_type": "markdown",
      "metadata": {
        "id": "t7ZChEgve1GT"
      },
      "source": [
        "## Alias disambiguation with gambit"
      ]
    },
    {
      "cell_type": "markdown",
      "metadata": {
        "id": "KO6UZFSVx7U3"
      },
      "source": [
        "In this phase, we cluster together those instances which are more likely to be related to the same developer. Since we only have the developer name and email, we rely on \"gambit\", a disambiguation tool presented in the recent work by Gote and Zingg, \"gambit – An Open Source Name Disambiguation\n",
        "Tool for Version Control Systems\""
      ]
    },
    {
      "cell_type": "code",
      "execution_count": null,
      "metadata": {
        "colab": {
          "base_uri": "https://localhost:8080/"
        },
        "id": "6bR6FvW8e3nd",
        "outputId": "273524e8-35cc-4586-e148-e412b950991a"
      },
      "outputs": [],
      "source": [
        "!pip install gambit-disambig"
      ]
    },
    {
      "cell_type": "markdown",
      "metadata": {
        "id": "WOP7-WL-yw1s"
      },
      "source": [
        "Here we transform our data in an acceptable form for the gambit library"
      ]
    },
    {
      "cell_type": "code",
      "execution_count": null,
      "metadata": {
        "colab": {
          "base_uri": "https://localhost:8080/",
          "height": 424
        },
        "id": "Afs5a5qEiwl4",
        "outputId": "f6f9df0c-52ab-4700-f2c1-b284cd510345"
      },
      "outputs": [],
      "source": [
        "aliases_df = df[['author', 'email']].drop_duplicates()\n",
        "aliases_df.columns = aliases_df.columns.str.replace(\"author\", \"alias_name\")\n",
        "aliases_df.columns = aliases_df.columns.str.replace(\"email\", \"alias_email\")\n",
        "aliases_df"
      ]
    },
    {
      "cell_type": "code",
      "execution_count": null,
      "metadata": {
        "colab": {
          "base_uri": "https://localhost:8080/",
          "height": 635
        },
        "id": "eSwBCAGOi88E",
        "outputId": "89a6e07b-4818-41a1-bb15-cb74e350426d"
      },
      "outputs": [],
      "source": [
        "import gambit\n",
        "\n",
        "disamb_df = gambit.disambiguate_aliases(aliases_df)\n",
        "disamb_df"
      ]
    },
    {
      "cell_type": "markdown",
      "metadata": {
        "id": "tRZMltMLlS8Z"
      },
      "source": [
        "Export the alias mapping in a separate CSV file"
      ]
    },
    {
      "cell_type": "code",
      "execution_count": null,
      "metadata": {
        "id": "-MLupjpt6YLZ"
      },
      "outputs": [],
      "source": [
        "disamb_df.to_csv('disamb.csv')"
      ]
    },
    {
      "cell_type": "markdown",
      "metadata": {
        "id": "rPO_sL7HlQy7"
      },
      "source": [
        "This way it is possible to re-load the dataframe in a second moment"
      ]
    },
    {
      "cell_type": "code",
      "execution_count": null,
      "metadata": {
        "colab": {
          "base_uri": "https://localhost:8080/",
          "height": 635
        },
        "id": "OuqhauHSrX3t",
        "outputId": "772ae23a-dfbd-46e9-b9e6-a96963e479bb"
      },
      "outputs": [],
      "source": [
        "disamb_df = pd.read_csv('disamb.csv')\n",
        "disamb_df"
      ]
    },
    {
      "cell_type": "markdown",
      "metadata": {
        "id": "cLwfPhX6zO9l"
      },
      "source": [
        "Here we map the produced 'author_id' (an unique identifier used to distinguish developers) to our dataset"
      ]
    },
    {
      "cell_type": "code",
      "execution_count": null,
      "metadata": {
        "id": "bKFss1M5juRK"
      },
      "outputs": [],
      "source": [
        "merged_df = df.merge(disamb_df[['alias_name', 'alias_email', 'author_id']], left_on=['author', 'email'], right_on=['alias_name', 'alias_email'], how='inner')"
      ]
    },
    {
      "cell_type": "code",
      "execution_count": null,
      "metadata": {
        "id": "eL8BY_KcwRKp"
      },
      "outputs": [],
      "source": [
        "merged_df = merged_df.drop('alias_name', axis=1)\n",
        "merged_df = merged_df.drop('alias_email', axis=1)"
      ]
    },
    {
      "cell_type": "markdown",
      "metadata": {},
      "source": [
        "Save the merged DataFrame (containing the author_id) on a separate file"
      ]
    },
    {
      "cell_type": "code",
      "execution_count": null,
      "metadata": {},
      "outputs": [],
      "source": [
        "merged_df.to_csv('commits_with_authors.csv', index=False)"
      ]
    }
  ],
  "metadata": {
    "colab": {
      "provenance": []
    },
    "kernelspec": {
      "display_name": "Python 3",
      "name": "python3"
    },
    "language_info": {
      "name": "python"
    }
  },
  "nbformat": 4,
  "nbformat_minor": 0
}
